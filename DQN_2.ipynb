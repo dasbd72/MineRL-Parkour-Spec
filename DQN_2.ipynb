{
 "cells": [
  {
   "cell_type": "code",
   "execution_count": 13,
   "metadata": {},
   "outputs": [],
   "source": [
    "# %matplotlib notebook\n",
    "import math\n",
    "import random\n",
    "import numpy as np\n",
    "import gym\n",
    "from parkour_env import parkour_env\n",
    "import matplotlib.pyplot as plt\n",
    "import matplotlib\n",
    "from matplotlib.animation import FuncAnimation\n",
    "from IPython.display import clear_output"
   ]
  },
  {
   "cell_type": "code",
   "execution_count": 14,
   "metadata": {},
   "outputs": [],
   "source": [
    "# In order to use the environment as a gym you need to register it with gym\n",
    "# model_name = \"DQN\"\n",
    "# map_name = \"bridge_hole\"\n",
    "# res = (64,64)\n",
    "\n",
    "# env = parkour_env(resolution=res, map=map_name, debug=False, fast=True, action_set=4)\n",
    "DEBUG = False\n",
    "FAST = True\n",
    "MPS = True\n",
    "res = RESOLUTION = (64, 64)\n",
    "env = parkour_env(resolution=RESOLUTION, map=\"bridge_lift\", debug=DEBUG, fast=FAST, action_set=1)"
   ]
  },
  {
   "cell_type": "code",
   "execution_count": 15,
   "metadata": {},
   "outputs": [],
   "source": [
    "sample_state = env.observation_space.sample()\n",
    "sample_action = env.action_space.sample()\n",
    "image_shape = sample_state['pov'].shape"
   ]
  },
  {
   "cell_type": "code",
   "execution_count": 16,
   "metadata": {},
   "outputs": [],
   "source": [
    "# this line might take a couple minutes to run\n",
    "# obs = env.reset()"
   ]
  },
  {
   "cell_type": "code",
   "execution_count": 17,
   "metadata": {},
   "outputs": [
    {
     "name": "stdout",
     "output_type": "stream",
     "text": [
      "Sample action: 1\n",
      "Sample pov space (64, 64, 3)\n",
      "n actions 4\n"
     ]
    }
   ],
   "source": [
    "print(\"Sample action:\", sample_action)\n",
    "print(\"Sample pov space\", image_shape)\n",
    "print(\"n actions\", env.n_actions)\n",
    "# env.observation_space.sample()['location_stats']['ypos']>10"
   ]
  },
  {
   "cell_type": "markdown",
   "metadata": {},
   "source": [
    "# Build DQN Agent\n",
    "https://pytorch.org/tutorials/intermediate/reinforcement_q_learning.html"
   ]
  },
  {
   "cell_type": "code",
   "execution_count": 18,
   "metadata": {},
   "outputs": [
    {
     "name": "stdout",
     "output_type": "stream",
     "text": [
      "this\n"
     ]
    },
    {
     "data": {
      "text/plain": [
       "<contextlib.ExitStack at 0x7f9a079c3310>"
      ]
     },
     "execution_count": 18,
     "metadata": {},
     "output_type": "execute_result"
    }
   ],
   "source": [
    "from collections import namedtuple, deque\n",
    "from itertools import count\n",
    "from PIL import Image\n",
    "\n",
    "import torch\n",
    "import torch.nn as nn\n",
    "import torch.optim as optim\n",
    "import torch.nn.functional as F\n",
    "import torchvision.transforms as T\n",
    "device = torch.device(\"cuda\" if torch.cuda.is_available() else \"cpu\")\n",
    "\n",
    "is_ipython = 'inline' in matplotlib.get_backend()\n",
    "if is_ipython:\n",
    "    print(\"this\")\n",
    "    from IPython import display\n",
    "    import ipywidgets as widgets\n",
    "plt.ion()"
   ]
  },
  {
   "cell_type": "markdown",
   "metadata": {},
   "source": [
    "## Replay Memory\n",
    "\n",
    "We’ll be using experience replay memory for training our DQN. It stores the transitions that the agent observes, allowing us to reuse this data later. By sampling from it randomly, the transitions that build up a batch are decorrelated. It has been shown that this greatly stabilizes and improves the DQN training procedure.\n",
    "\n",
    "For this, we’re going to need two classses:\n",
    "- `Transition` - a named tuple representing a single transition in our environment. It essentially maps (state, action) pairs to their (next_state, reward) result, with the state being the screen difference image as described later on.\n",
    "- `ReplayMemory` - a cyclic buffer of bounded size that holds the transitions observed recently. It also implements a .sample() method for selecting a random batch of transitions for training."
   ]
  },
  {
   "cell_type": "code",
   "execution_count": 19,
   "metadata": {},
   "outputs": [],
   "source": [
    "Transition = namedtuple('Transition',\n",
    "                        ('state', 'action', 'next_state', 'reward'))\n",
    "\n",
    "\n",
    "class ReplayMemory(object):\n",
    "\n",
    "    def __init__(self, capacity):\n",
    "        self.memory = deque([],maxlen=capacity)\n",
    "\n",
    "    def push(self, *args):\n",
    "        \"\"\"Save a transition\"\"\"\n",
    "        self.memory.append(Transition(*args))\n",
    "\n",
    "    def sample(self, batch_size):\n",
    "        return random.sample(self.memory, batch_size)\n",
    "\n",
    "    def __len__(self):\n",
    "        return len(self.memory)"
   ]
  },
  {
   "cell_type": "markdown",
   "metadata": {},
   "source": [
    "## Q-network\n",
    "Our model will be a convolutional neural network that takes in the current and previous screen patches. It has 4 outputs, representing (cameraX_-30deg, cameraX_+30deg, front, jump)"
   ]
  },
  {
   "cell_type": "code",
   "execution_count": 20,
   "metadata": {},
   "outputs": [],
   "source": [
    "class DQN(nn.Module):\n",
    "    def __init__(self, h, w, outputs):\n",
    "        super(DQN, self).__init__()\n",
    "        # The number of input channel is:  \"# of stacked image\" * 3\n",
    "        # TODO:\n",
    "        # 1. change resolution from 96*96 to 64*64 (also fix the linear layer)\n",
    "        # 2. remove BatchNorm\n",
    "        # 3. Add maxpooling\n",
    "        self.conv1 = nn.Conv2d(12, 16, kernel_size=5, stride=2)\n",
    "        # self.bn1 = nn.BatchNorm2d(16)\n",
    "        self.mp1 = nn.MaxPool2d(3, 1)\n",
    "        self.conv2 = nn.Conv2d(16, 32, kernel_size=5, stride=2)\n",
    "        # self.bn2 = nn.BatchNorm2d(32)\n",
    "        self.mp2 = nn.MaxPool2d(3, 1)\n",
    "        self.conv3 = nn.Conv2d(32, 48, kernel_size=5, stride=2)\n",
    "        # self.bn3 = nn.BatchNorm2d(48)\n",
    "        self.mp3 = nn.MaxPool2d(3, 1)\n",
    "\n",
    "        # Number of Linear input connections depends on output of conv2d layers\n",
    "        # and therefore the input image size, so compute it.\n",
    "        def conv2d_size_out(size, kernel_size = 5, stride = 2):\n",
    "            return (size - (kernel_size - 1) - 1) // stride  + 1\n",
    "        def maxpool2d_size_out(size, kernel_size = 3, stride = 1):\n",
    "            return (size - kernel_size) // stride + 1\n",
    "        convw = maxpool2d_size_out(conv2d_size_out(maxpool2d_size_out(conv2d_size_out(maxpool2d_size_out(conv2d_size_out(w))))))\n",
    "        convh = maxpool2d_size_out(conv2d_size_out(maxpool2d_size_out(conv2d_size_out(maxpool2d_size_out(conv2d_size_out(h))))))\n",
    "        # convh = conv2d_size_out(conv2d_size_out(conv2d_size_out(h)))\n",
    "        linear_input_size = convw * convh * 32\n",
    "        self.dense1 = nn.Linear(48, 16)\n",
    "        self.head = nn.Linear(16, outputs)\n",
    "\n",
    "    # Called with either one element to determine next action, or a batch\n",
    "    # during optimization. Returns tensor([[left0exp,right0exp]...]).\n",
    "    def forward(self, x):\n",
    "        x = x.to(device)\n",
    "        x = F.sigmoid(self.mp1(self.conv1(x)))\n",
    "        x = F.sigmoid(self.mp2(self.conv2(x)))\n",
    "        x = F.sigmoid(self.mp3(self.conv3(x)))\n",
    "        x = torch.flatten(x, start_dim=1)\n",
    "        x = F.sigmoid(self.dense1(x))\n",
    "        x = self.head(x)\n",
    "        # print(x.shape)\n",
    "        # x = x.to(device)\n",
    "        # print(x.shape)\n",
    "        # x = self.conv1(x)\n",
    "        # print(x.shape)\n",
    "        # x = self.mp1(x)\n",
    "        # print(x.shape)\n",
    "        # x = F.sigmoid(x)\n",
    "        # print(x.shape)\n",
    "        # x = self.conv2(x) \n",
    "        # print(x.shape)\n",
    "        # x = self.mp2(x)\n",
    "        # print(x.shape)\n",
    "        # x = F.sigmoid(x)\n",
    "        # print(x.shape)\n",
    "        # x = self.conv3(x)\n",
    "        # print(x.shape)\n",
    "        # x = self.mp3(x)\n",
    "        # print(x.shape)\n",
    "        # x = F.sigmoid(x)\n",
    "        # print(x.shape)\n",
    "        # x = torch.flatten(x, start_dim=1)\n",
    "        # print(x.shape)\n",
    "        # x = self.dense1(x)\n",
    "        # print(x.shape)\n",
    "        # x = F.sigmoid(x)\n",
    "        # print(x.shape)\n",
    "        # x = self.head(x)\n",
    "        # print(x.shape)\n",
    "        return x\n",
    "class queue():\n",
    "    def __init__(self, n_stacked_img, dim, stride=1):\n",
    "        self.data = []\n",
    "        self.stride = stride\n",
    "        self.size = (n_stacked_img - 1) * stride + 1\n",
    "        for i in range(self.size):\n",
    "            self.data.append(torch.zeros(dim))\n",
    "    def push(self, img):\n",
    "        self.data[:-1] = self.data[1:]\n",
    "        self.data[-1] = img\n",
    "    def get(self):\n",
    "        return torch.cat(self.data[::self.stride]).unsqueeze(0).to(device)\n",
    "    def fill(self, img):\n",
    "        for i in range(self.size):\n",
    "            self.data[i] = img\n"
   ]
  },
  {
   "cell_type": "code",
   "execution_count": 21,
   "metadata": {},
   "outputs": [
    {
     "name": "stdout",
     "output_type": "stream",
     "text": [
      "----------------------------------------------------------------\n",
      "        Layer (type)               Output Shape         Param #\n",
      "================================================================\n",
      "            Conv2d-1           [-1, 16, 30, 30]           4,816\n",
      "         MaxPool2d-2           [-1, 16, 28, 28]               0\n",
      "            Conv2d-3           [-1, 32, 12, 12]          12,832\n",
      "         MaxPool2d-4           [-1, 32, 10, 10]               0\n",
      "            Conv2d-5             [-1, 48, 3, 3]          38,448\n",
      "         MaxPool2d-6             [-1, 48, 1, 1]               0\n",
      "            Linear-7                   [-1, 16]             784\n",
      "            Linear-8                    [-1, 5]              85\n",
      "================================================================\n",
      "Total params: 56,965\n",
      "Trainable params: 56,965\n",
      "Non-trainable params: 0\n",
      "----------------------------------------------------------------\n",
      "Input size (MB): 0.19\n",
      "Forward/backward pass size (MB): 0.27\n",
      "Params size (MB): 0.22\n",
      "Estimated Total Size (MB): 0.67\n",
      "----------------------------------------------------------------\n"
     ]
    }
   ],
   "source": [
    "from torchsummary import summary\n",
    "\n",
    "model = DQN(64, 64, 5).to(device)\n",
    "summary(model, (12, 64, 64))"
   ]
  },
  {
   "cell_type": "code",
   "execution_count": 22,
   "metadata": {},
   "outputs": [],
   "source": [
    "# BATCH_SIZE is the number of transitions sampled from the replay buffer\n",
    "# GAMMA is the discount factor as mentioned in the previous section\n",
    "# EPS_START is the starting value of epsilon\n",
    "# EPS_END is the final value of epsilon\n",
    "# EPS_DECAY controls the rate of exponential decay of epsilon, higher means a slower decay\n",
    "# TAU is the update rate of the target network\n",
    "# LR is the learning rate of the AdamW optimizer\n",
    "BATCH_SIZE = 128\n",
    "GAMMA = 0.99\n",
    "EPS_START = 0.9\n",
    "EPS_END = 0.10\n",
    "EPS_DECAY = 10000\n",
    "TAU = 0.005\n",
    "LR = 1e-4\n",
    "\n",
    "n_actions = env.n_actions\n",
    "h = res[0]\n",
    "w = res[1]\n",
    "policy_net = DQN(h, w, n_actions).to(device)\n",
    "target_net = DQN(h, w, n_actions).to(device)\n",
    "# target_net.load_state_dict(torch.load(\"policy_net.torch\"))\n",
    "target_net.load_state_dict(policy_net.state_dict())\n",
    "\n",
    "optimizer = optim.AdamW(policy_net.parameters(), lr=LR, amsgrad=True)\n",
    "memory = ReplayMemory(10000)\n",
    "\n",
    "steps_done = 0\n",
    "\n",
    "def select_action(state):\n",
    "    global steps_done\n",
    "    sample = random.random()\n",
    "    eps_threshold = EPS_END + (EPS_START - EPS_END) * \\\n",
    "        math.exp(-1. * steps_done / EPS_DECAY)\n",
    "    steps_done += 1\n",
    "    if sample > eps_threshold:\n",
    "        with torch.no_grad():\n",
    "            # t.max(1) will return largest column value of each row.\n",
    "            # second column on max result is index of where max element was\n",
    "            # found, so we pick action with the larger expected reward.\n",
    "            #state = torch.permute(state, (2,0,1))\n",
    "            # state = torch.unsqueeze(state, dim=0)\n",
    "            # return torch.argmax(policy_net(state), dim=1).squeeze()\n",
    "            x = policy_net(state)\n",
    "            x = torch.nn.functional.softmax(x, dim=1)\n",
    "            m = torch.distributions.Categorical(x)\n",
    "            re = m.sample().cpu().numpy()[0]\n",
    "            return torch.tensor([[re]], device=device, dtype=torch.long)\n",
    "    else:\n",
    "        return torch.tensor([[random.randint(0, n_actions-1)]], device=device, dtype=torch.long)\n",
    "\n",
    "episode_durations = []\n",
    "\n",
    "def plot_durations():\n",
    "    plt.figure(1)\n",
    "    plt.clf()\n",
    "    durations_t = torch.tensor(episode_durations, dtype=torch.float)\n",
    "    plt.title('Training...')\n",
    "    plt.xlabel('Episode')\n",
    "    plt.ylabel('Duration')\n",
    "    plt.plot(durations_t.numpy())\n",
    "    # Take 100 episode averages and plot them too\n",
    "    if len(durations_t) >= 100:\n",
    "        means = durations_t.unfold(0, 100, 1).mean(1).view(-1)\n",
    "        means = torch.cat((torch.zeros(99), means))\n",
    "        plt.plot(means.numpy())\n",
    "\n",
    "    plt.pause(0.001)  # pause a bit so that plots are updated\n",
    "    if is_ipython:\n",
    "        display.clear_output(wait=True)\n",
    "        display.display(plt.gcf())\n"
   ]
  },
  {
   "cell_type": "code",
   "execution_count": 23,
   "metadata": {},
   "outputs": [],
   "source": [
    "def optimize_model():\n",
    "    if len(memory) < BATCH_SIZE:\n",
    "        return\n",
    "    transitions = memory.sample(BATCH_SIZE)\n",
    "    # Transpose the batch (see https://stackoverflow.com/a/19343/3343043 for\n",
    "    # detailed explanation). This converts batch-array of Transitions\n",
    "    # to Transition of batch-arrays.\n",
    "    batch = Transition(*zip(*transitions))\n",
    "\n",
    "    # Compute a mask of non-final states and concatenate the batch elements\n",
    "    # (a final state would've been the one after which simulation ended)\n",
    "    non_final_mask = torch.tensor(tuple(map(lambda s: s is not None,\n",
    "                                          batch.next_state)), device=device, dtype=torch.bool)\n",
    "    non_final_next_states = torch.cat([s for s in batch.next_state\n",
    "                                                if s is not None])\n",
    "    state_batch = torch.cat(batch.state)\n",
    "    action_batch = torch.cat(batch.action)\n",
    "    reward_batch = torch.cat(batch.reward)\n",
    "\n",
    "    # Compute Q(s_t, a) - the model computes Q(s_t), then we select the\n",
    "    # columns of actions taken. These are the actions which would've been taken\n",
    "    # for each batch state according to policy_net\n",
    "    state_action_values = policy_net(state_batch).gather(1, action_batch)\n",
    "\n",
    "\n",
    "    # Compute V(s_{t+1}) for all next states.\n",
    "    # Expected values of actions for non_final_next_states are computed based\n",
    "    # on the \"older\" target_net; selecting their best reward with max(1)[0].\n",
    "    # This is merged based on the mask, such that we'll have either the expected\n",
    "    # state value or 0 in case the state was final.\n",
    "    next_state_values = torch.zeros(BATCH_SIZE, device=device)\n",
    "    with torch.no_grad():\n",
    "        next_state_values[non_final_mask] = target_net(non_final_next_states).max(1)[0]\n",
    "    # Compute the expected Q values\n",
    "    expected_state_action_values = (next_state_values * GAMMA) + reward_batch\n",
    "\n",
    "    # Compute Huber loss\n",
    "    criterion = nn.SmoothL1Loss()\n",
    "    loss = criterion(state_action_values, expected_state_action_values.unsqueeze(1))\n",
    "\n",
    "    # Optimize the model\n",
    "    optimizer.zero_grad()\n",
    "    loss.backward()\n",
    "    # In-place gradient clipping\n",
    "    torch.nn.utils.clip_grad_value_(policy_net.parameters(), 100)\n",
    "    optimizer.step()\n",
    "def convert_state(state):\n",
    "    x = torch.tensor(state['pov'].copy(), dtype=torch.float32)\n",
    "    x = torch.permute(x, (2,0,1))\n",
    "    return x/255\n",
    "total_episodes = 0\n",
    "rewards = []"
   ]
  },
  {
   "cell_type": "code",
   "execution_count": 24,
   "metadata": {
    "scrolled": false
   },
   "outputs": [
    {
     "data": {
      "application/vnd.jupyter.widget-view+json": {
       "model_id": "10c7ee9062c845288f80b43fd0665764",
       "version_major": 2,
       "version_minor": 0
      },
      "text/plain": [
       "Output()"
      ]
     },
     "metadata": {},
     "output_type": "display_data"
    },
    {
     "data": {
      "application/vnd.jupyter.widget-view+json": {
       "model_id": "31d8209a89ae4c54afbf0bd2478e2186",
       "version_major": 2,
       "version_minor": 0
      },
      "text/plain": [
       "Output()"
      ]
     },
     "metadata": {},
     "output_type": "display_data"
    },
    {
     "name": "stdout",
     "output_type": "stream",
     "text": [
      "Resetting environment.\n"
     ]
    },
    {
     "name": "stderr",
     "output_type": "stream",
     "text": [
      "/home/andrea/anaconda3/envs/minerl0.4_env/lib/python3.9/site-packages/gym/logger.py:34: UserWarning: \u001b[33mWARN: Box bound precision lowered by casting to float32\u001b[0m\n",
      "  warnings.warn(colorize(\"%s: %s\" % (\"WARN\", msg % args), \"yellow\"))\n",
      "/home/andrea/anaconda3/envs/minerl0.4_env/lib/python3.9/runpy.py:127: RuntimeWarning: 'minerl.utils.process_watcher' found in sys.modules after import of package 'minerl.utils', but prior to execution of 'minerl.utils.process_watcher'; this may result in unpredictable behaviour\n",
      "  warn(RuntimeWarning(msg))\n"
     ]
    },
    {
     "name": "stdout",
     "output_type": "stream",
     "text": [
      "98.59 True\n"
     ]
    },
    {
     "name": "stdout",
     "output_type": "stream",
     "text": [
      "16 success\n"
     ]
    },
    {
     "name": "stdout",
     "output_type": "stream",
     "text": [
      "98.49 True\n"
     ]
    },
    {
     "name": "stdout",
     "output_type": "stream",
     "text": [
      "61 success\n"
     ]
    },
    {
     "name": "stdout",
     "output_type": "stream",
     "text": [
      "98.72 True\n"
     ]
    },
    {
     "name": "stdout",
     "output_type": "stream",
     "text": [
      "77 success\n"
     ]
    },
    {
     "name": "stdout",
     "output_type": "stream",
     "text": [
      "98.23 True\n"
     ]
    },
    {
     "name": "stdout",
     "output_type": "stream",
     "text": [
      "93 success\n"
     ]
    },
    {
     "ename": "RuntimeError",
     "evalue": "CUDA out of memory. Tried to allocate 20.00 MiB (GPU 0; 11.76 GiB total capacity; 2.77 GiB already allocated; 81.44 MiB free; 2.94 GiB reserved in total by PyTorch) If reserved memory is >> allocated memory try setting max_split_size_mb to avoid fragmentation.  See documentation for Memory Management and PYTORCH_CUDA_ALLOC_CONF",
     "output_type": "error",
     "traceback": [
      "\u001b[0;31m---------------------------------------------------------------------------\u001b[0m",
      "\u001b[0;31mRuntimeError\u001b[0m                              Traceback (most recent call last)",
      "Cell \u001b[0;32mIn[24], line 69\u001b[0m\n\u001b[1;32m     64\u001b[0m memory\u001b[39m.\u001b[39mpush(history_state, action, que\u001b[39m.\u001b[39mget(), reward)\n\u001b[1;32m     65\u001b[0m \u001b[39m# Move to the next state\u001b[39;00m\n\u001b[1;32m     66\u001b[0m \u001b[39m# state = next_state\u001b[39;00m\n\u001b[1;32m     67\u001b[0m \n\u001b[1;32m     68\u001b[0m \u001b[39m# Perform one step of the optimization (on the policy network)\u001b[39;00m\n\u001b[0;32m---> 69\u001b[0m optimize_model()\n\u001b[1;32m     71\u001b[0m \u001b[39m# Soft update of the target network's weights\u001b[39;00m\n\u001b[1;32m     72\u001b[0m \u001b[39m# θ′ ← τ θ + (1 −τ )θ′\u001b[39;00m\n\u001b[1;32m     73\u001b[0m target_net_state_dict \u001b[39m=\u001b[39m target_net\u001b[39m.\u001b[39mstate_dict()\n",
      "Cell \u001b[0;32mIn[23], line 33\u001b[0m, in \u001b[0;36moptimize_model\u001b[0;34m()\u001b[0m\n\u001b[1;32m     31\u001b[0m next_state_values \u001b[39m=\u001b[39m torch\u001b[39m.\u001b[39mzeros(BATCH_SIZE, device\u001b[39m=\u001b[39mdevice)\n\u001b[1;32m     32\u001b[0m \u001b[39mwith\u001b[39;00m torch\u001b[39m.\u001b[39mno_grad():\n\u001b[0;32m---> 33\u001b[0m     next_state_values[non_final_mask] \u001b[39m=\u001b[39m target_net(non_final_next_states)\u001b[39m.\u001b[39mmax(\u001b[39m1\u001b[39m)[\u001b[39m0\u001b[39m]\n\u001b[1;32m     34\u001b[0m \u001b[39m# Compute the expected Q values\u001b[39;00m\n\u001b[1;32m     35\u001b[0m expected_state_action_values \u001b[39m=\u001b[39m (next_state_values \u001b[39m*\u001b[39m GAMMA) \u001b[39m+\u001b[39m reward_batch\n",
      "File \u001b[0;32m~/anaconda3/envs/minerl0.4_env/lib/python3.9/site-packages/torch/nn/modules/module.py:1130\u001b[0m, in \u001b[0;36mModule._call_impl\u001b[0;34m(self, *input, **kwargs)\u001b[0m\n\u001b[1;32m   1126\u001b[0m \u001b[39m# If we don't have any hooks, we want to skip the rest of the logic in\u001b[39;00m\n\u001b[1;32m   1127\u001b[0m \u001b[39m# this function, and just call forward.\u001b[39;00m\n\u001b[1;32m   1128\u001b[0m \u001b[39mif\u001b[39;00m \u001b[39mnot\u001b[39;00m (\u001b[39mself\u001b[39m\u001b[39m.\u001b[39m_backward_hooks \u001b[39mor\u001b[39;00m \u001b[39mself\u001b[39m\u001b[39m.\u001b[39m_forward_hooks \u001b[39mor\u001b[39;00m \u001b[39mself\u001b[39m\u001b[39m.\u001b[39m_forward_pre_hooks \u001b[39mor\u001b[39;00m _global_backward_hooks\n\u001b[1;32m   1129\u001b[0m         \u001b[39mor\u001b[39;00m _global_forward_hooks \u001b[39mor\u001b[39;00m _global_forward_pre_hooks):\n\u001b[0;32m-> 1130\u001b[0m     \u001b[39mreturn\u001b[39;00m forward_call(\u001b[39m*\u001b[39;49m\u001b[39minput\u001b[39;49m, \u001b[39m*\u001b[39;49m\u001b[39m*\u001b[39;49mkwargs)\n\u001b[1;32m   1131\u001b[0m \u001b[39m# Do not call functions when jit is used\u001b[39;00m\n\u001b[1;32m   1132\u001b[0m full_backward_hooks, non_full_backward_hooks \u001b[39m=\u001b[39m [], []\n",
      "Cell \u001b[0;32mIn[20], line 36\u001b[0m, in \u001b[0;36mDQN.forward\u001b[0;34m(self, x)\u001b[0m\n\u001b[1;32m     34\u001b[0m \u001b[39mdef\u001b[39;00m \u001b[39mforward\u001b[39m(\u001b[39mself\u001b[39m, x):\n\u001b[1;32m     35\u001b[0m     x \u001b[39m=\u001b[39m x\u001b[39m.\u001b[39mto(device)\n\u001b[0;32m---> 36\u001b[0m     x \u001b[39m=\u001b[39m F\u001b[39m.\u001b[39msigmoid(\u001b[39mself\u001b[39;49m\u001b[39m.\u001b[39;49mmp1(\u001b[39mself\u001b[39;49m\u001b[39m.\u001b[39;49mconv1(x)))\n\u001b[1;32m     37\u001b[0m     x \u001b[39m=\u001b[39m F\u001b[39m.\u001b[39msigmoid(\u001b[39mself\u001b[39m\u001b[39m.\u001b[39mmp2(\u001b[39mself\u001b[39m\u001b[39m.\u001b[39mconv2(x)))\n\u001b[1;32m     38\u001b[0m     x \u001b[39m=\u001b[39m F\u001b[39m.\u001b[39msigmoid(\u001b[39mself\u001b[39m\u001b[39m.\u001b[39mmp3(\u001b[39mself\u001b[39m\u001b[39m.\u001b[39mconv3(x)))\n",
      "File \u001b[0;32m~/anaconda3/envs/minerl0.4_env/lib/python3.9/site-packages/torch/nn/modules/module.py:1130\u001b[0m, in \u001b[0;36mModule._call_impl\u001b[0;34m(self, *input, **kwargs)\u001b[0m\n\u001b[1;32m   1126\u001b[0m \u001b[39m# If we don't have any hooks, we want to skip the rest of the logic in\u001b[39;00m\n\u001b[1;32m   1127\u001b[0m \u001b[39m# this function, and just call forward.\u001b[39;00m\n\u001b[1;32m   1128\u001b[0m \u001b[39mif\u001b[39;00m \u001b[39mnot\u001b[39;00m (\u001b[39mself\u001b[39m\u001b[39m.\u001b[39m_backward_hooks \u001b[39mor\u001b[39;00m \u001b[39mself\u001b[39m\u001b[39m.\u001b[39m_forward_hooks \u001b[39mor\u001b[39;00m \u001b[39mself\u001b[39m\u001b[39m.\u001b[39m_forward_pre_hooks \u001b[39mor\u001b[39;00m _global_backward_hooks\n\u001b[1;32m   1129\u001b[0m         \u001b[39mor\u001b[39;00m _global_forward_hooks \u001b[39mor\u001b[39;00m _global_forward_pre_hooks):\n\u001b[0;32m-> 1130\u001b[0m     \u001b[39mreturn\u001b[39;00m forward_call(\u001b[39m*\u001b[39;49m\u001b[39minput\u001b[39;49m, \u001b[39m*\u001b[39;49m\u001b[39m*\u001b[39;49mkwargs)\n\u001b[1;32m   1131\u001b[0m \u001b[39m# Do not call functions when jit is used\u001b[39;00m\n\u001b[1;32m   1132\u001b[0m full_backward_hooks, non_full_backward_hooks \u001b[39m=\u001b[39m [], []\n",
      "File \u001b[0;32m~/anaconda3/envs/minerl0.4_env/lib/python3.9/site-packages/torch/nn/modules/pooling.py:162\u001b[0m, in \u001b[0;36mMaxPool2d.forward\u001b[0;34m(self, input)\u001b[0m\n\u001b[1;32m    161\u001b[0m \u001b[39mdef\u001b[39;00m \u001b[39mforward\u001b[39m(\u001b[39mself\u001b[39m, \u001b[39minput\u001b[39m: Tensor):\n\u001b[0;32m--> 162\u001b[0m     \u001b[39mreturn\u001b[39;00m F\u001b[39m.\u001b[39;49mmax_pool2d(\u001b[39minput\u001b[39;49m, \u001b[39mself\u001b[39;49m\u001b[39m.\u001b[39;49mkernel_size, \u001b[39mself\u001b[39;49m\u001b[39m.\u001b[39;49mstride,\n\u001b[1;32m    163\u001b[0m                         \u001b[39mself\u001b[39;49m\u001b[39m.\u001b[39;49mpadding, \u001b[39mself\u001b[39;49m\u001b[39m.\u001b[39;49mdilation, ceil_mode\u001b[39m=\u001b[39;49m\u001b[39mself\u001b[39;49m\u001b[39m.\u001b[39;49mceil_mode,\n\u001b[1;32m    164\u001b[0m                         return_indices\u001b[39m=\u001b[39;49m\u001b[39mself\u001b[39;49m\u001b[39m.\u001b[39;49mreturn_indices)\n",
      "File \u001b[0;32m~/anaconda3/envs/minerl0.4_env/lib/python3.9/site-packages/torch/_jit_internal.py:423\u001b[0m, in \u001b[0;36mboolean_dispatch.<locals>.fn\u001b[0;34m(*args, **kwargs)\u001b[0m\n\u001b[1;32m    421\u001b[0m     \u001b[39mreturn\u001b[39;00m if_true(\u001b[39m*\u001b[39margs, \u001b[39m*\u001b[39m\u001b[39m*\u001b[39mkwargs)\n\u001b[1;32m    422\u001b[0m \u001b[39melse\u001b[39;00m:\n\u001b[0;32m--> 423\u001b[0m     \u001b[39mreturn\u001b[39;00m if_false(\u001b[39m*\u001b[39;49margs, \u001b[39m*\u001b[39;49m\u001b[39m*\u001b[39;49mkwargs)\n",
      "File \u001b[0;32m~/anaconda3/envs/minerl0.4_env/lib/python3.9/site-packages/torch/nn/functional.py:782\u001b[0m, in \u001b[0;36m_max_pool2d\u001b[0;34m(input, kernel_size, stride, padding, dilation, ceil_mode, return_indices)\u001b[0m\n\u001b[1;32m    780\u001b[0m \u001b[39mif\u001b[39;00m stride \u001b[39mis\u001b[39;00m \u001b[39mNone\u001b[39;00m:\n\u001b[1;32m    781\u001b[0m     stride \u001b[39m=\u001b[39m torch\u001b[39m.\u001b[39mjit\u001b[39m.\u001b[39mannotate(List[\u001b[39mint\u001b[39m], [])\n\u001b[0;32m--> 782\u001b[0m \u001b[39mreturn\u001b[39;00m torch\u001b[39m.\u001b[39;49mmax_pool2d(\u001b[39minput\u001b[39;49m, kernel_size, stride, padding, dilation, ceil_mode)\n",
      "\u001b[0;31mRuntimeError\u001b[0m: CUDA out of memory. Tried to allocate 20.00 MiB (GPU 0; 11.76 GiB total capacity; 2.77 GiB already allocated; 81.44 MiB free; 2.94 GiB reserved in total by PyTorch) If reserved memory is >> allocated memory try setting max_split_size_mb to avoid fragmentation.  See documentation for Memory Management and PYTORCH_CUDA_ALLOC_CONF"
     ]
    }
   ],
   "source": [
    "num_episodes = 3000\n",
    "total_time = 0\n",
    "success_video = []\n",
    "# plot \n",
    "import time\n",
    "renderer = widgets.Output()\n",
    "display.display(renderer)\n",
    "plotter = widgets.Output()\n",
    "display.display(plotter)\n",
    "FAST = True\n",
    "# Create a plot\n",
    "# fig, ax = plt.subplots(1,1)\n",
    "\n",
    "que = queue(n_stacked_img=4, dim=(3, res[0], res[1]), stride=3)\n",
    "for i_episode in range(num_episodes):\n",
    "    start = time.time()\n",
    "    state = env.reset()\n",
    "    state = convert_state(state)\n",
    "    que.fill(state)\n",
    "#     print(que.get().shape)\n",
    "#     print(i_episode, EPS_END + (EPS_START - EPS_END) * math.exp(-1. * steps_done / EPS_DECAY))\n",
    "    last_dis = 0\n",
    "    total_reward = 0\n",
    "    history = []\n",
    "    for t in count():\n",
    "        env.render()\n",
    "        if t % 10 == 0 and FAST and is_ipython:\n",
    "            with renderer:\n",
    "                display.clear_output(wait=True)\n",
    "                plt.imshow(observation['pov'] )\n",
    "                plt.title(f'{i_episode} step: {t} tot_reward: {total_reward:.2f} time: {total_time/60:.2f} min')\n",
    "                plt.show()\n",
    "        if t == 0:\n",
    "            s = state\n",
    "        else:\n",
    "            s = convert_state(observation)\n",
    "        history_state = que.get()\n",
    "        action = select_action(history_state)\n",
    "        # print(action)\n",
    "        actionInt = int(action)\n",
    "        \n",
    "        # observation, reward, done, info = env.step(actionInt)\n",
    "        observation, reward, done, info, success = env.step(actionInt)\n",
    "        total_reward += reward\n",
    "        history.append((s, action, reward))\n",
    "        # if t % 10 == 0:\n",
    "        #     ax.clear()\n",
    "        #     ax.set_title(f'episode: {total_episodes} step: {t} reward: {reward:.2f}')\n",
    "        #     ax.imshow(observation['pov'])\n",
    "        #     fig.canvas.draw()\n",
    "\n",
    "        if (reward >= 50):\n",
    "            print(reward, done)\n",
    "            done = True\n",
    "        r = reward\n",
    "        reward = torch.tensor([reward], device=device, dtype=torch.float)\n",
    "#         print(reward)\n",
    "        if done:\n",
    "            next_state = None\n",
    "        else:\n",
    "            next_state = convert_state(observation)\n",
    "            que.push(next_state)\n",
    "        # Store the transition in memory\n",
    "        memory.push(history_state, action, que.get(), reward)\n",
    "        # Move to the next state\n",
    "        # state = next_state\n",
    "\n",
    "        # Perform one step of the optimization (on the policy network)\n",
    "        optimize_model()\n",
    "        \n",
    "        # Soft update of the target network's weights\n",
    "        # θ′ ← τ θ + (1 −τ )θ′\n",
    "        target_net_state_dict = target_net.state_dict()\n",
    "        policy_net_state_dict = policy_net.state_dict()\n",
    "        for key in policy_net_state_dict:\n",
    "            target_net_state_dict[key] = policy_net_state_dict[key]*TAU + target_net_state_dict[key]*(1-TAU)\n",
    "        target_net.load_state_dict(target_net_state_dict)\n",
    "\n",
    "        # if done:\n",
    "        #     total_episodes += 1\n",
    "        #     episode_durations.append(t + 1)\n",
    "        #     rewards.append(r)\n",
    "        #     plot_durations()\n",
    "        #     break\n",
    "        if done:\n",
    "            rewards.append(r)\n",
    "            if is_ipython:\n",
    "                with plotter:\n",
    "                    display.clear_output(wait=True)\n",
    "                    plt.scatter(range(len(rewards)), rewards, s=1)\n",
    "                    plt.show()\n",
    "            break\n",
    "    end = time.time()\n",
    "    end = end - start\n",
    "    total_time += end\n",
    "    if success:\n",
    "        print(f\"{i_episode} success\")\n",
    "        success_video.append(history)"
   ]
  },
  {
   "cell_type": "code",
   "execution_count": 16,
   "metadata": {},
   "outputs": [
    {
     "data": {
      "image/png": "[encoded data removed]",
      "text/plain": [
       "<Figure size 640x480 with 3 Axes>"
      ]
     },
     "metadata": {},
     "output_type": "display_data"
    }
   ],
   "source": [
    "from matplotlib.pyplot import figure\n",
    "from brokenaxes import brokenaxes\n",
    "bax = brokenaxes(ylims=((-60, -40), (50, 109)),\n",
    "                hspace=0.25,diag_color='r')\n",
    "\n",
    "bax.scatter(np.linspace(0, len(rewards)-1, len(rewards)), rewards, s=5)\n",
    "\n",
    "bax.set_xlabel(\"episodes\")\n",
    "bax.set_ylabel(\"reward\")\n",
    "bax.set_title(f\"Training history\")\n",
    "plt.show()"
   ]
  },
  {
   "cell_type": "code",
   "execution_count": 17,
   "metadata": {},
   "outputs": [
    {
     "data": {
      "text/plain": [
       "103.81828284322536"
      ]
     },
     "execution_count": 17,
     "metadata": {},
     "output_type": "execute_result"
    }
   ],
   "source": [
    "rewards[484]"
   ]
  },
  {
   "cell_type": "code",
   "execution_count": 13,
   "metadata": {},
   "outputs": [
    {
     "name": "stdout",
     "output_type": "stream",
     "text": [
      "7\n"
     ]
    }
   ],
   "source": [
    "print(len(success_video))"
   ]
  },
  {
   "cell_type": "code",
   "execution_count": null,
   "metadata": {},
   "outputs": [],
   "source": [
    "def extract_state(obs):\n",
    "    x = torch.tensor(obs['pov'].copy(), dtype=torch.float32)\n",
    "    #x = torch.permute(x, (2,0,1)).unsqueeze(0) / 255\n",
    "    x = torch.permute(x, (2,0,1)) / 255  # for queue\n",
    "    return x"
   ]
  },
  {
   "cell_type": "code",
   "execution_count": 15,
   "metadata": {},
   "outputs": [
    {
     "name": "stdout",
     "output_type": "stream",
     "text": [
      "7\n"
     ]
    },
    {
     "data": {
      "image/png": "[encoded data removed]",
      "text/plain": [
       "<Figure size 640x480 with 1 Axes>"
      ]
     },
     "metadata": {},
     "output_type": "display_data"
    }
   ],
   "source": [
    "import matplotlib.animation as animation\n",
    "from IPython import display\n",
    "print(len(success_video))\n",
    "play = 6\n",
    "# Create a plot\n",
    "fig, ax = plt.subplots(1,1)\n",
    "t = 0\n",
    "A = ['forward', 'forward_jump', 'forward_sprint', 'camera_left', 'camera_right']\n",
    "ims = []\n",
    "def update(i):\n",
    "    state, action, reward = success_video[play][i]\n",
    "    # print(state.shape)\n",
    "    title = ax.set_title(f'step: {i+1} reward: {float(reward):.2f} action: {A[action]}')\n",
    "    img = torch.permute(state, (1,2,0))*255\n",
    "    img = np.array(img.numpy(), dtype=int)\n",
    "    im = ax.imshow(img)\n",
    "    return im,\n",
    "anim = animation.FuncAnimation(fig, update, frames=len(success_video[play]), interval=50, repeat=True)\n",
    "anim.save(\"PPO_bridge_turn_left_4910.mp4\", dpi=80)"
   ]
  },
  {
   "cell_type": "code",
   "execution_count": null,
   "metadata": {},
   "outputs": [],
   "source": [
    "#env.close()\n",
    "# torch.save(policy_net.state_dict(), f\"{model_name}_{map_name}_{res[0]}x{res[1]}.torch\")"
   ]
  },
  {
   "cell_type": "code",
   "execution_count": null,
   "metadata": {},
   "outputs": [],
   "source": [
    "# env.render()\n",
    "# action = env.action_space.noop()\n",
    "# #action['camera'][1] = +30\n",
    "# action['jump'] = 1\n",
    "# obs, reward, done, info = env.step(action)"
   ]
  },
  {
   "cell_type": "code",
   "execution_count": null,
   "metadata": {},
   "outputs": [],
   "source": [
    "#obs = env.reset()"
   ]
  },
  {
   "cell_type": "code",
   "execution_count": null,
   "metadata": {},
   "outputs": [],
   "source": [
    "# env.close()"
   ]
  }
 ],
 "metadata": {
  "kernelspec": {
   "display_name": "Python 3.9.15 ('minerl0.4_env')",
   "language": "python",
   "name": "python3"
  },
  "language_info": {
   "codemirror_mode": {
    "name": "ipython",
    "version": 3
   },
   "file_extension": ".py",
   "mimetype": "text/x-python",
   "name": "python",
   "nbconvert_exporter": "python",
   "pygments_lexer": "ipython3",
   "version": "3.9.15"
  },
  "vscode": {
   "interpreter": {
    "hash": "af06617272457674a15b2da48834d617c5f78e8bb03f6b268b04522843997d0b"
   }
  }
 },
 "nbformat": 4,
 "nbformat_minor": 2
}

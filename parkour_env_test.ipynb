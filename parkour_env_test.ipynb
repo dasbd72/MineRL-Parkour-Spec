{
 "cells": [
  {
   "cell_type": "code",
   "execution_count": null,
   "metadata": {},
   "outputs": [],
   "source": [
    "from parkour_env import parkour_env"
   ]
  },
  {
   "cell_type": "code",
   "execution_count": null,
   "metadata": {},
   "outputs": [],
   "source": [
    "env = parkour_env(resolution=(224,224), debug=False, fast=True)"
   ]
  },
  {
   "cell_type": "code",
   "execution_count": null,
   "metadata": {},
   "outputs": [],
   "source": [
    "import numpy as np\n",
    "import matplotlib.pyplot as plt\n",
    "from IPython.display import clear_output"
   ]
  },
  {
   "cell_type": "code",
   "execution_count": null,
   "metadata": {},
   "outputs": [],
   "source": [
    "for episode in range(5):\n",
    "    obs = env.reset()\n",
    "\n",
    "    done = False\n",
    "    while not done:\n",
    "        env.render()\n",
    "        \n",
    "        clear_output(wait=True)\n",
    "        plt.imshow( obs['pov'] )\n",
    "        plt.show()\n",
    "\n",
    "        action = env.action_space.sample()\n",
    "        obs, reward, done, info = env.step(action)"
   ]
  }
 ],
 "metadata": {
  "kernelspec": {
   "display_name": "minerl-0.4.4",
   "language": "python",
   "name": "python3"
  },
  "language_info": {
   "codemirror_mode": {
    "name": "ipython",
    "version": 3
   },
   "file_extension": ".py",
   "mimetype": "text/x-python",
   "name": "python",
   "nbconvert_exporter": "python",
   "pygments_lexer": "ipython3",
   "version": "3.10.8"
  },
  "orig_nbformat": 4,
  "vscode": {
   "interpreter": {
    "hash": "b4f7e2a837d202febde7ca43873e66ef03435144f2808f9a8051bdb7fbfc88b0"
   }
  }
 },
 "nbformat": 4,
 "nbformat_minor": 2
}

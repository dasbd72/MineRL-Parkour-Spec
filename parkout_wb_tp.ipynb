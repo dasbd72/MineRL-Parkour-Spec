{
 "cells": [
  {
   "cell_type": "code",
   "execution_count": null,
   "metadata": {},
   "outputs": [],
   "source": [
    "import minerl\n",
    "import gym\n",
    "from parkour_wb_specs import PKWB\n",
    "\n",
    "import random"
   ]
  },
  {
   "cell_type": "code",
   "execution_count": null,
   "metadata": {},
   "outputs": [],
   "source": [
    "# import logging\n",
    "# logging.basicConfig(level=logging.DEBUG)"
   ]
  },
  {
   "cell_type": "code",
   "execution_count": null,
   "metadata": {},
   "outputs": [],
   "source": [
    "print(minerl.__path__)\n",
    "print(gym.__path__)\n",
    "print(gym.__version__)"
   ]
  },
  {
   "cell_type": "code",
   "execution_count": null,
   "metadata": {},
   "outputs": [],
   "source": [
    "# In order to use the environment as a gym you need to register it with gym\n",
    "abs_PK = PKWB(resolution=(64,64), map=\"bridge\", manual_reset=True)\n",
    "try:\n",
    "    abs_PK.register()\n",
    "except:\n",
    "    pass\n",
    "env = gym.make(\"PKWB-v0\")"
   ]
  },
  {
   "cell_type": "code",
   "execution_count": null,
   "metadata": {},
   "outputs": [],
   "source": [
    "obs = env.reset()"
   ]
  },
  {
   "cell_type": "code",
   "execution_count": null,
   "metadata": {},
   "outputs": [],
   "source": [
    "for episode in range(5):\n",
    "    obs = env.reset()\n",
    "\n",
    "    done = False\n",
    "    while not done:\n",
    "        action = {\n",
    "            \"forward\": random.randint(0, 1),\n",
    "            \"camara\": [0, random.randrange(-50, 50)]\n",
    "        }\n",
    "        if obs['location_stats']['ypos'] <= 0:\n",
    "            env.set_next_chat_message(\"/tp @a 0 2 0\")\n",
    "            action = {}\n",
    "        obs, reward, done, info = env.step(action)\n",
    "        print(obs['location_stats']['xpos'], obs['location_stats']['ypos'], obs['location_stats']['zpos'])"
   ]
  },
  {
   "cell_type": "code",
   "execution_count": null,
   "metadata": {},
   "outputs": [],
   "source": [
    "# env.close()"
   ]
  }
 ],
 "metadata": {
  "kernelspec": {
   "display_name": "Python 3.9.15 ('minerl-0.4.4')",
   "language": "python",
   "name": "python3"
  },
  "language_info": {
   "codemirror_mode": {
    "name": "ipython",
    "version": 3
   },
   "file_extension": ".py",
   "mimetype": "text/x-python",
   "name": "python",
   "nbconvert_exporter": "python",
   "pygments_lexer": "ipython3",
   "version": "3.10.8 (main, Nov 24 2022, 08:08:27) [Clang 14.0.6 ]"
  },
  "orig_nbformat": 4,
  "vscode": {
   "interpreter": {
    "hash": "b4f7e2a837d202febde7ca43873e66ef03435144f2808f9a8051bdb7fbfc88b0"
   }
  }
 },
 "nbformat": 4,
 "nbformat_minor": 2
}

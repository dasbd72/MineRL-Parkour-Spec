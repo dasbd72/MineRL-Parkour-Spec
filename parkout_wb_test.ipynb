{
 "cells": [
  {
   "cell_type": "code",
   "execution_count": 1,
   "metadata": {},
   "outputs": [
    {
     "name": "stderr",
     "output_type": "stream",
     "text": [
      "/opt/miniconda3/envs/minerl-0.4.4/lib/python3.10/site-packages/gym/logger.py:34: UserWarning: \u001b[33mWARN: Box bound precision lowered by casting to float32\u001b[0m\n",
      "  warnings.warn(colorize(\"%s: %s\" % (\"WARN\", msg % args), \"yellow\"))\n"
     ]
    }
   ],
   "source": [
    "import minerl\n",
    "import gym\n",
    "from parkour_wb_specs import PKWB"
   ]
  },
  {
   "cell_type": "code",
   "execution_count": 2,
   "metadata": {},
   "outputs": [],
   "source": [
    "# import logging\n",
    "# logging.basicConfig(level=logging.DEBUG)"
   ]
  },
  {
   "cell_type": "code",
   "execution_count": 3,
   "metadata": {},
   "outputs": [
    {
     "name": "stdout",
     "output_type": "stream",
     "text": [
      "['/opt/miniconda3/envs/minerl-0.4.4/lib/python3.10/site-packages/minerl']\n",
      "['/opt/miniconda3/envs/minerl-0.4.4/lib/python3.10/site-packages/gym']\n",
      "0.19.0\n"
     ]
    }
   ],
   "source": [
    "print(minerl.__path__)\n",
    "print(gym.__path__)\n",
    "print(gym.__version__)"
   ]
  },
  {
   "cell_type": "code",
   "execution_count": 4,
   "metadata": {},
   "outputs": [],
   "source": [
    "# In order to use the environment as a gym you need to register it with gym\n",
    "abs_PK = PKWB(resolution=(64,64), map=\"bridge_lift\")\n",
    "try:\n",
    "    abs_PK.register()\n",
    "except:\n",
    "    pass\n",
    "env = gym.make(\"PKWB-v0\")"
   ]
  },
  {
   "cell_type": "code",
   "execution_count": 6,
   "metadata": {},
   "outputs": [
    {
     "name": "stdout",
     "output_type": "stream",
     "text": [
      "odict_keys(['location_stats', 'pov'])\n",
      "[ 61.635048 -17.678354]\n",
      "(64, 64, 3)\n"
     ]
    }
   ],
   "source": [
    "sample_state = env.observation_space.sample()\n",
    "sample_action = env.action_space.sample()\n",
    "image_shape = sample_state['pov'].shape"
   ]
  },
  {
   "cell_type": "code",
   "execution_count": null,
   "metadata": {},
   "outputs": [],
   "source": [
    "obs = env.reset()"
   ]
  },
  {
   "cell_type": "code",
   "execution_count": null,
   "metadata": {},
   "outputs": [],
   "source": [
    "for episode in range(5):\n",
    "    obs = env.reset()\n",
    "\n",
    "    done = False\n",
    "    while not done:\n",
    "        env.render()\n",
    "        # a dictionary of actions. Try indexing it and changing values.\n",
    "        # action = env.action_space.noop()\n",
    "        action = env.action_space.sample()\n",
    "        obs, reward, done, info = env.step(action)"
   ]
  },
  {
   "cell_type": "code",
   "execution_count": null,
   "metadata": {},
   "outputs": [],
   "source": [
    "# env.close()"
   ]
  }
 ],
 "metadata": {
  "kernelspec": {
   "display_name": "Python 3.9.15 ('minerl-0.4.4')",
   "language": "python",
   "name": "python3"
  },
  "language_info": {
   "codemirror_mode": {
    "name": "ipython",
    "version": 3
   },
   "file_extension": ".py",
   "mimetype": "text/x-python",
   "name": "python",
   "nbconvert_exporter": "python",
   "pygments_lexer": "ipython3",
   "version": "3.10.8 (main, Nov 24 2022, 08:08:27) [Clang 14.0.6 ]"
  },
  "orig_nbformat": 4,
  "vscode": {
   "interpreter": {
    "hash": "b4f7e2a837d202febde7ca43873e66ef03435144f2808f9a8051bdb7fbfc88b0"
   }
  }
 },
 "nbformat": 4,
 "nbformat_minor": 2
}
